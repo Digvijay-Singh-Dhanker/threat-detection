{
 "cells": [
  {
   "cell_type": "code",
   "execution_count": 1,
   "id": "320269a8",
   "metadata": {},
   "outputs": [
    {
     "name": "stderr",
     "output_type": "stream",
     "text": [
      "Cloning into 'yolov5'...\n"
     ]
    }
   ],
   "source": [
    "#!git clone https://github.com/ultralytics/yolov5"
   ]
  },
  {
   "cell_type": "code",
   "execution_count": 1,
   "id": "837761e0",
   "metadata": {},
   "outputs": [
    {
     "name": "stderr",
     "output_type": "stream",
     "text": [
      "C:\\Users\\Digvijay Singh Dhank\\anaconda3\\envs\\drowsy\\lib\\site-packages\\tqdm\\auto.py:22: TqdmWarning: IProgress not found. Please update jupyter and ipywidgets. See https://ipywidgets.readthedocs.io/en/stable/user_install.html\n",
      "  from .autonotebook import tqdm as notebook_tqdm\n"
     ]
    }
   ],
   "source": [
    "import torch\n",
    "from matplotlib import pyplot as plt\n",
    "import numpy as np\n",
    "import cv2\n",
    "import uuid   # Unique identifier\n",
    "import os\n",
    "import time\n",
    "import psycopg2\n",
    "import pandas as pd\n",
    "hostname = 'localhost'\n",
    "database = 'employeeDB'\n",
    "username = 'postgres'\n",
    "pwd = 'admin'\n",
    "port_id = 5432\n",
    "conn = psycopg2.connect(host=hostname, dbname=database, user=username, password=pwd, port=port_id)\n",
    "cur = conn.cursor()"
   ]
  },
  {
   "cell_type": "code",
   "execution_count": 2,
   "id": "25b28663",
   "metadata": {},
   "outputs": [
    {
     "name": "stderr",
     "output_type": "stream",
     "text": [
      "Downloading: \"https://github.com/ultralytics/yolov5/archive/master.zip\" to C:\\Users\\Digvijay Singh Dhank/.cache\\torch\\hub\\master.zip\n",
      "YOLOv5  2022-5-30 Python-3.8.13 torch-1.8.2+cpu CPU\n",
      "\n",
      "Fusing layers... \n",
      "Model summary: 213 layers, 7053277 parameters, 0 gradients, 15.9 GFLOPs\n",
      "Adding AutoShape... \n"
     ]
    }
   ],
   "source": [
    "model = torch.hub.load('ultralytics/yolov5', 'custom', path='yolov5/runs/train/exp/weights/last.pt', force_reload=True)"
   ]
  },
  {
   "cell_type": "code",
   "execution_count": 25,
   "id": "9bd796db",
   "metadata": {},
   "outputs": [
    {
     "name": "stdout",
     "output_type": "stream",
     "text": [
      "threat\n",
      "threat\n",
      "threat\n",
      "threat\n",
      "threat\n",
      "threat\n",
      "threat\n",
      "threat\n",
      "threat\n",
      "threat\n",
      "threat\n",
      "threat\n",
      "threat\n"
     ]
    }
   ],
   "source": [
    "cap = cv2.VideoCapture(0)\n",
    "var = \"\"\n",
    "safety_score = 99;\n",
    "location_name = \"street2\"\n",
    "location_id = 123\n",
    "while cap.isOpened():\n",
    "    ret, frame = cap.read()\n",
    "    cv2.rectangle(frame, (0, 0), (525, 73), (245, 117, 16), -1)\n",
    "    cv2.putText(frame, \"Location Name:\", (15, 12),\n",
    "                        cv2.FONT_HERSHEY_SIMPLEX, 0.5, (0, 0, 0), 1, cv2.LINE_AA)\n",
    "    cv2.putText(frame, \"Location I.D.:\",\n",
    "                        (10, 60),\n",
    "                        cv2.FONT_HERSHEY_SIMPLEX, 0.5, (0, 0, 0), 1, cv2.LINE_AA)\n",
    "    cv2.putText(frame, location_name, (180, 12),\n",
    "                        cv2.FONT_HERSHEY_SIMPLEX, 0.5, (0, 0, 0), 1, cv2.LINE_AA)\n",
    "    cv2.putText(frame, str(location_id),\n",
    "                        (180, 60),\n",
    "                        cv2.FONT_HERSHEY_SIMPLEX, 0.5, (0, 0, 0), 1, cv2.LINE_AA)\n",
    "    # Make detections \n",
    "    results = model(frame)\n",
    "    \n",
    "    cv2.imshow('YOLO', np.squeeze(results.render()))\n",
    "    df = results.pandas().xyxy[0]\n",
    "    d_count=df['name'].str.contains('threat').sum()\n",
    "    if d_count>0:\n",
    "        safety_score = safety_score - d_count\n",
    "        score = safety_score.item()\n",
    "        sql = \"UPDATE employee SET score = array_append(score, %s) WHERE location = %s\"\n",
    "        var = (score,location_name,)\n",
    "        cur.execute(sql, var)\n",
    "    if d_count==1:\n",
    "             print(\"threat\")\n",
    "    if cv2.waitKey(10) & 0xFF == ord('q'):\n",
    "        conn.commit()\n",
    "        break\n",
    "cap.release()\n",
    "cv2.destroyAllWindows()"
   ]
  },
  {
   "cell_type": "code",
   "execution_count": 22,
   "id": "a496e658",
   "metadata": {},
   "outputs": [],
   "source": [
    "# cur.close()\n",
    "# conn.close()"
   ]
  },
  {
   "cell_type": "code",
   "execution_count": 28,
   "id": "6444302e",
   "metadata": {},
   "outputs": [
    {
     "name": "stdout",
     "output_type": "stream",
     "text": [
      "   id    location                                              score\n",
      "0   1         ATM  [100, 99, 94, 93, 92, 91, 90, 89, 88, 87, 86, ...\n",
      "1   2   Warehouse  [100, 99, 98, 69, 65, 50, 45, 45, 45, 45, 45, ...\n",
      "2   3      Street  [200, 97, 5, 10, 94, 93, 92, 91, 90, 89, 88, 8...\n",
      "3   4     street2  [100, 98, 97, 96, 93, 90, 88, 86, 85, 84, 82, ...\n",
      "4   5  warehouse2                                              [100]\n"
     ]
    },
    {
     "name": "stderr",
     "output_type": "stream",
     "text": [
      "C:\\Users\\Digvijay Singh Dhank\\anaconda3\\envs\\drowsy\\lib\\site-packages\\pandas\\io\\sql.py:761: UserWarning: pandas only support SQLAlchemy connectable(engine/connection) ordatabase string URI or sqlite3 DBAPI2 connectionother DBAPI2 objects are not tested, please consider using SQLAlchemy\n",
      "  warnings.warn(\n"
     ]
    }
   ],
   "source": [
    "my_table    = pd.read_sql('select * from employee', conn)\n",
    "print(my_table)"
   ]
  }
 ],
 "metadata": {
  "kernelspec": {
   "display_name": "drowsy",
   "language": "python",
   "name": "drowsy"
  },
  "language_info": {
   "codemirror_mode": {
    "name": "ipython",
    "version": 3
   },
   "file_extension": ".py",
   "mimetype": "text/x-python",
   "name": "python",
   "nbconvert_exporter": "python",
   "pygments_lexer": "ipython3",
   "version": "3.8.13"
  }
 },
 "nbformat": 4,
 "nbformat_minor": 5
}
